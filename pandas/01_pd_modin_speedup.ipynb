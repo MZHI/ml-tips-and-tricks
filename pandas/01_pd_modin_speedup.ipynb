{
 "cells": [
  {
   "cell_type": "markdown",
   "metadata": {},
   "source": [
    "#### 0. Import packages"
   ]
  },
  {
   "cell_type": "code",
   "execution_count": 1,
   "metadata": {},
   "outputs": [],
   "source": [
    "import pandas as pd\n",
    "import modin.pandas as mpd\n",
    "import numpy as np"
   ]
  },
  {
   "cell_type": "markdown",
   "metadata": {},
   "source": [
    "#### 1. Create dataframe of large size and save to disk"
   ]
  },
  {
   "cell_type": "code",
   "execution_count": 8,
   "metadata": {},
   "outputs": [
    {
     "name": "stdout",
     "output_type": "stream",
     "text": [
      "<class 'pandas.core.frame.DataFrame'>\n",
      "RangeIndex: 7812500 entries, 0 to 7812499\n",
      "Data columns (total 16 columns):\n",
      " #   Column  Dtype\n",
      "---  ------  -----\n",
      " 0   0       int64\n",
      " 1   1       int64\n",
      " 2   2       int64\n",
      " 3   3       int64\n",
      " 4   4       int64\n",
      " 5   5       int64\n",
      " 6   6       int64\n",
      " 7   7       int64\n",
      " 8   8       int64\n",
      " 9   9       int64\n",
      " 10  10      int64\n",
      " 11  11      int64\n",
      " 12  12      int64\n",
      " 13  13      int64\n",
      " 14  14      int64\n",
      " 15  15      int64\n",
      "dtypes: int64(16)\n",
      "memory usage: 953.7 MB\n"
     ]
    }
   ],
   "source": [
    "data_1GB = np.random.randint(0, 100, size=(7812500, 2**4))\n",
    "df = pd.DataFrame(data_1GB)\n",
    "df.add_prefix(\"Col:\")\n",
    "df.info()"
   ]
  },
  {
   "cell_type": "code",
   "execution_count": 13,
   "metadata": {},
   "outputs": [],
   "source": [
    "# save to disk\n",
    "df.to_csv(\"1gb.csv\")"
   ]
  },
  {
   "cell_type": "code",
   "execution_count": 14,
   "metadata": {},
   "outputs": [],
   "source": [
    "del df"
   ]
  },
  {
   "cell_type": "markdown",
   "metadata": {},
   "source": [
    "#### 2. Comparison using read_csv method"
   ]
  },
  {
   "cell_type": "code",
   "execution_count": 2,
   "metadata": {},
   "outputs": [
    {
     "name": "stdout",
     "output_type": "stream",
     "text": [
      "CPU times: user 5.7 s, sys: 689 ms, total: 6.39 s\n",
      "Wall time: 6.41 s\n"
     ]
    }
   ],
   "source": [
    "%%time\n",
    "\n",
    "pandas_csv_data = pd.read_csv(\"1gb.csv\")"
   ]
  },
  {
   "cell_type": "code",
   "execution_count": 3,
   "metadata": {},
   "outputs": [
    {
     "data": {
      "text/plain": [
       "{'node_ip_address': '192.168.170.233',\n",
       " 'raylet_ip_address': '192.168.170.233',\n",
       " 'redis_address': '192.168.170.233:6379',\n",
       " 'object_store_address': '/tmp/ray/session_2021-10-24_13-36-43_062094_16952/sockets/plasma_store',\n",
       " 'raylet_socket_name': '/tmp/ray/session_2021-10-24_13-36-43_062094_16952/sockets/raylet',\n",
       " 'webui_url': None,\n",
       " 'session_dir': '/tmp/ray/session_2021-10-24_13-36-43_062094_16952',\n",
       " 'metrics_export_port': 55443,\n",
       " 'node_id': '2bbc9204befb7d07686334727200362f5111ba3a903445976a52c79b'}"
      ]
     },
     "execution_count": 3,
     "metadata": {},
     "output_type": "execute_result"
    }
   ],
   "source": [
    "import ray\n",
    "ray.shutdown()\n",
    "ray.init()"
   ]
  },
  {
   "cell_type": "code",
   "execution_count": 4,
   "metadata": {},
   "outputs": [
    {
     "name": "stdout",
     "output_type": "stream",
     "text": [
      "CPU times: user 586 ms, sys: 169 ms, total: 755 ms\n",
      "Wall time: 4.78 s\n"
     ]
    }
   ],
   "source": [
    "%%time\n",
    "\n",
    "modin_csv_data = mpd.read_csv(\"1gb.csv\")"
   ]
  }
 ],
 "metadata": {
  "kernelspec": {
   "display_name": "env_p38",
   "language": "python",
   "name": "env_p38"
  },
  "language_info": {
   "codemirror_mode": {
    "name": "ipython",
    "version": 3
   },
   "file_extension": ".py",
   "mimetype": "text/x-python",
   "name": "python",
   "nbconvert_exporter": "python",
   "pygments_lexer": "ipython3",
   "version": "3.8.9"
  }
 },
 "nbformat": 4,
 "nbformat_minor": 4
}
